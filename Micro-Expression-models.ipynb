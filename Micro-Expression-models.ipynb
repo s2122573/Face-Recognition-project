{
 "cells": [
  {
   "cell_type": "markdown",
   "source": [
    "# 微表情检测分类\r\n",
    "\r\n",
    "简单的实现思路是对每一个表情文件夹下的图片中均匀分组，每一组选取一张图片，然后将所有的图片按照时间顺序合并为一个三维的数组输入到CNN模型中"
   ],
   "metadata": {}
  },
  {
   "cell_type": "code",
   "execution_count": 67,
   "source": [
    "import numpy as np\r\n",
    "import pandas as pd\r\n",
    "import matplotlib.pyplot as plt\r\n",
    "import cv2\r\n",
    "import random\r\n",
    "import os\r\n",
    "import re\r\n",
    "import math"
   ],
   "outputs": [],
   "metadata": {}
  },
  {
   "cell_type": "code",
   "execution_count": 68,
   "source": [
    "# 超参数\r\n",
    "T = 8"
   ],
   "outputs": [],
   "metadata": {}
  },
  {
   "cell_type": "markdown",
   "source": [
    "## 读取数据集"
   ],
   "metadata": {}
  },
  {
   "cell_type": "code",
   "execution_count": 69,
   "source": [
    "data_path = '..\\\\datasets\\\\cropped-by Li Xiaobai\\\\Cropped'\r\n",
    "info_path = \"..\\\\datasets\\\\cropped-by Li Xiaobai\\\\Cropped\\\\info.csv\"\r\n",
    "\r\n",
    "info = pd.read_csv(info_path)\r\n",
    "info"
   ],
   "outputs": [
    {
     "output_type": "execute_result",
     "data": {
      "text/plain": [
       "     Unnamed: 0  Subject Filename  OnsetF  ApexF1 OffsetF       Onset  \\\n",
       "0             0        1  EP01_12      73      81      91  150.000000   \n",
       "1             1        1  EP01_12     163     169     177  116.666667   \n",
       "2             2        1   EP01_5     113     121     133  150.000000   \n",
       "3             3        1   EP01_8      67      75      81  150.000000   \n",
       "4             4        1   EP03_1      79      91     105  216.666667   \n",
       "..          ...      ...      ...     ...     ...     ...         ...   \n",
       "192          96       19   EP07_9      46      55      90  150.000000   \n",
       "193          97       19   EP09_3     106     111     120   83.333333   \n",
       "194          98       19   EP12_1      91      95     111   66.666667   \n",
       "195          99       19   EP12_2      39      48      57  150.000000   \n",
       "196         100       19   EP12_4      51      55      71   66.666667   \n",
       "\n",
       "                  Total   AU     Emotion  \n",
       "0     316.6666666666667    4       tense  \n",
       "1                   250    4       tense  \n",
       "2                   350   12   happiness  \n",
       "3                   250   14  repression  \n",
       "4                   450   17  repression  \n",
       "..                  ...  ...         ...  \n",
       "192   733.3333333333334  L14  repression  \n",
       "193  233.33333333333334    4       tense  \n",
       "194   333.3333333333333  1+2    surprise  \n",
       "195                 300    4       tense  \n",
       "196   333.3333333333333    4       tense  \n",
       "\n",
       "[197 rows x 10 columns]"
      ],
      "text/html": [
       "<div>\n",
       "<style scoped>\n",
       "    .dataframe tbody tr th:only-of-type {\n",
       "        vertical-align: middle;\n",
       "    }\n",
       "\n",
       "    .dataframe tbody tr th {\n",
       "        vertical-align: top;\n",
       "    }\n",
       "\n",
       "    .dataframe thead th {\n",
       "        text-align: right;\n",
       "    }\n",
       "</style>\n",
       "<table border=\"1\" class=\"dataframe\">\n",
       "  <thead>\n",
       "    <tr style=\"text-align: right;\">\n",
       "      <th></th>\n",
       "      <th>Unnamed: 0</th>\n",
       "      <th>Subject</th>\n",
       "      <th>Filename</th>\n",
       "      <th>OnsetF</th>\n",
       "      <th>ApexF1</th>\n",
       "      <th>OffsetF</th>\n",
       "      <th>Onset</th>\n",
       "      <th>Total</th>\n",
       "      <th>AU</th>\n",
       "      <th>Emotion</th>\n",
       "    </tr>\n",
       "  </thead>\n",
       "  <tbody>\n",
       "    <tr>\n",
       "      <th>0</th>\n",
       "      <td>0</td>\n",
       "      <td>1</td>\n",
       "      <td>EP01_12</td>\n",
       "      <td>73</td>\n",
       "      <td>81</td>\n",
       "      <td>91</td>\n",
       "      <td>150.000000</td>\n",
       "      <td>316.6666666666667</td>\n",
       "      <td>4</td>\n",
       "      <td>tense</td>\n",
       "    </tr>\n",
       "    <tr>\n",
       "      <th>1</th>\n",
       "      <td>1</td>\n",
       "      <td>1</td>\n",
       "      <td>EP01_12</td>\n",
       "      <td>163</td>\n",
       "      <td>169</td>\n",
       "      <td>177</td>\n",
       "      <td>116.666667</td>\n",
       "      <td>250</td>\n",
       "      <td>4</td>\n",
       "      <td>tense</td>\n",
       "    </tr>\n",
       "    <tr>\n",
       "      <th>2</th>\n",
       "      <td>2</td>\n",
       "      <td>1</td>\n",
       "      <td>EP01_5</td>\n",
       "      <td>113</td>\n",
       "      <td>121</td>\n",
       "      <td>133</td>\n",
       "      <td>150.000000</td>\n",
       "      <td>350</td>\n",
       "      <td>12</td>\n",
       "      <td>happiness</td>\n",
       "    </tr>\n",
       "    <tr>\n",
       "      <th>3</th>\n",
       "      <td>3</td>\n",
       "      <td>1</td>\n",
       "      <td>EP01_8</td>\n",
       "      <td>67</td>\n",
       "      <td>75</td>\n",
       "      <td>81</td>\n",
       "      <td>150.000000</td>\n",
       "      <td>250</td>\n",
       "      <td>14</td>\n",
       "      <td>repression</td>\n",
       "    </tr>\n",
       "    <tr>\n",
       "      <th>4</th>\n",
       "      <td>4</td>\n",
       "      <td>1</td>\n",
       "      <td>EP03_1</td>\n",
       "      <td>79</td>\n",
       "      <td>91</td>\n",
       "      <td>105</td>\n",
       "      <td>216.666667</td>\n",
       "      <td>450</td>\n",
       "      <td>17</td>\n",
       "      <td>repression</td>\n",
       "    </tr>\n",
       "    <tr>\n",
       "      <th>...</th>\n",
       "      <td>...</td>\n",
       "      <td>...</td>\n",
       "      <td>...</td>\n",
       "      <td>...</td>\n",
       "      <td>...</td>\n",
       "      <td>...</td>\n",
       "      <td>...</td>\n",
       "      <td>...</td>\n",
       "      <td>...</td>\n",
       "      <td>...</td>\n",
       "    </tr>\n",
       "    <tr>\n",
       "      <th>192</th>\n",
       "      <td>96</td>\n",
       "      <td>19</td>\n",
       "      <td>EP07_9</td>\n",
       "      <td>46</td>\n",
       "      <td>55</td>\n",
       "      <td>90</td>\n",
       "      <td>150.000000</td>\n",
       "      <td>733.3333333333334</td>\n",
       "      <td>L14</td>\n",
       "      <td>repression</td>\n",
       "    </tr>\n",
       "    <tr>\n",
       "      <th>193</th>\n",
       "      <td>97</td>\n",
       "      <td>19</td>\n",
       "      <td>EP09_3</td>\n",
       "      <td>106</td>\n",
       "      <td>111</td>\n",
       "      <td>120</td>\n",
       "      <td>83.333333</td>\n",
       "      <td>233.33333333333334</td>\n",
       "      <td>4</td>\n",
       "      <td>tense</td>\n",
       "    </tr>\n",
       "    <tr>\n",
       "      <th>194</th>\n",
       "      <td>98</td>\n",
       "      <td>19</td>\n",
       "      <td>EP12_1</td>\n",
       "      <td>91</td>\n",
       "      <td>95</td>\n",
       "      <td>111</td>\n",
       "      <td>66.666667</td>\n",
       "      <td>333.3333333333333</td>\n",
       "      <td>1+2</td>\n",
       "      <td>surprise</td>\n",
       "    </tr>\n",
       "    <tr>\n",
       "      <th>195</th>\n",
       "      <td>99</td>\n",
       "      <td>19</td>\n",
       "      <td>EP12_2</td>\n",
       "      <td>39</td>\n",
       "      <td>48</td>\n",
       "      <td>57</td>\n",
       "      <td>150.000000</td>\n",
       "      <td>300</td>\n",
       "      <td>4</td>\n",
       "      <td>tense</td>\n",
       "    </tr>\n",
       "    <tr>\n",
       "      <th>196</th>\n",
       "      <td>100</td>\n",
       "      <td>19</td>\n",
       "      <td>EP12_4</td>\n",
       "      <td>51</td>\n",
       "      <td>55</td>\n",
       "      <td>71</td>\n",
       "      <td>66.666667</td>\n",
       "      <td>333.3333333333333</td>\n",
       "      <td>4</td>\n",
       "      <td>tense</td>\n",
       "    </tr>\n",
       "  </tbody>\n",
       "</table>\n",
       "<p>197 rows × 10 columns</p>\n",
       "</div>"
      ]
     },
     "metadata": {},
     "execution_count": 69
    }
   ],
   "metadata": {}
  },
  {
   "cell_type": "code",
   "execution_count": 70,
   "source": [
    "# 获取labels\r\n",
    "from sklearn.preprocessing import LabelEncoder\r\n",
    "\r\n",
    "\r\n",
    "lbe = LabelEncoder()\r\n",
    "y_labels = info[\"Emotion\"].values.tolist()\r\n",
    "lbe_res = lbe.fit_transform(y_labels)\r\n",
    "print(len(lbe.classes_))\r\n",
    "lbe.classes_"
   ],
   "outputs": [
    {
     "output_type": "stream",
     "name": "stdout",
     "text": [
      "8\n"
     ]
    },
    {
     "output_type": "execute_result",
     "data": {
      "text/plain": [
       "array(['comtempt', 'disgust', 'fear', 'happiness', 'repression',\n",
       "       'sadness', 'surprise', 'tense'], dtype='<U10')"
      ]
     },
     "metadata": {},
     "execution_count": 70
    }
   ],
   "metadata": {}
  },
  {
   "cell_type": "code",
   "execution_count": 71,
   "source": [
    "plt.hist(lbe_res, )\r\n",
    "plt.show()"
   ],
   "outputs": [
    {
     "output_type": "display_data",
     "data": {
      "text/plain": [
       "<matplotlib.figure.Figure at 0x17318b76f60>"
      ],
      "image/png": "[encoded data removed]"
     },
     "metadata": {}
    }
   ],
   "metadata": {}
  },
  {
   "cell_type": "code",
   "execution_count": 72,
   "source": [
    "def randomChoseGroup(files, T=6):\r\n",
    "    \"\"\"\r\n",
    "    对列表均匀分组，每一组中随机选择一个sample\r\n",
    "    input:\r\n",
    "        files: 文件名列表\r\n",
    "        T:     分组数，默认为6\r\n",
    "    output:\r\n",
    "        chose_imgs: 随机分组得到的名称\r\n",
    "    \"\"\"\r\n",
    "    length = len(files)\r\n",
    "    interval = int(length / T)\r\n",
    "    chose_imgs = list()\r\n",
    "    for i in range(T):\r\n",
    "        chose_img = random.sample(files[i*interval:(i+1)*interval], 1)[0]\r\n",
    "        chose_imgs.append(chose_img)\r\n",
    "    return chose_imgs\r\n",
    "# imgs = [str(i) for i in range(100)]\r\n",
    "# print(randomChoseGroup(imgs, 6))"
   ],
   "outputs": [],
   "metadata": {}
  },
  {
   "cell_type": "code",
   "execution_count": 73,
   "source": [
    "# 列表排序key\r\n",
    "def sort_key(s):\r\n",
    "    if s:\r\n",
    "        try:\r\n",
    "            c=re.findall('\\d+$', s)[0]\r\n",
    "        except:\r\n",
    "            c=-1\r\n",
    "        return int(c)\r\n",
    "# 读取序列表情图片\r\n",
    "expressions = list()\r\n",
    "labels = list()\r\n",
    "count = 0\r\n",
    "chose_emotion = ['disgust', 'repression', 'tense']\r\n",
    "for i in range(len(info)):\r\n",
    "    subname = \"sub\" + str(info['Subject'].iloc[i]).rjust(2, '0')\r\n",
    "    filename = info['Filename'].iloc[i]\r\n",
    "    file_path = os.path.join(data_path, subname, filename)\r\n",
    "\r\n",
    "    imgs = os.listdir(file_path)\r\n",
    "    if len(imgs) >= 10:\r\n",
    "        chose_imgs = randomChoseGroup(imgs)\r\n",
    "        chose_imgs.sort(key=sort_key, reverse=False)\r\n",
    "        expression = np.zeros([T, 64, 64])\r\n",
    "        for j in range(len(chose_imgs)):\r\n",
    "            img = cv2.imread(os.path.join(file_path, chose_imgs[j]), cv2.IMREAD_GRAYSCALE)\r\n",
    "            # print(img.shape)\r\n",
    "            expression[j, :, :] = cv2.resize(img,(64, 64))\r\n",
    "\r\n",
    "        expressions.append(expression)\r\n",
    "        # if info['Emotion'].iloc[i] in ['disgust', 'repression', 'tense']:\r\n",
    "        #     labels.append(info['Emotion'].iloc[i])\r\n",
    "        # else:\r\n",
    "        #     labels.append('other')\r\n",
    "        labels.append(info['Emotion'].iloc[i])\r\n",
    "expressions = np.array(expressions)"
   ],
   "outputs": [],
   "metadata": {}
  },
  {
   "cell_type": "code",
   "execution_count": 74,
   "source": [
    "expressions.shape"
   ],
   "outputs": [
    {
     "output_type": "execute_result",
     "data": {
      "text/plain": [
       "(195, 8, 64, 64)"
      ]
     },
     "metadata": {},
     "execution_count": 74
    }
   ],
   "metadata": {}
  },
  {
   "cell_type": "code",
   "execution_count": 75,
   "source": [
    "# 获取labels\r\n",
    "from sklearn.preprocessing import LabelEncoder\r\n",
    "\r\n",
    "\r\n",
    "lbe = LabelEncoder()\r\n",
    "lbe_res = lbe.fit_transform(labels)\r\n",
    "print(len(lbe.classes_))\r\n",
    "lbe.classes_"
   ],
   "outputs": [
    {
     "output_type": "stream",
     "name": "stdout",
     "text": [
      "8\n"
     ]
    },
    {
     "output_type": "execute_result",
     "data": {
      "text/plain": [
       "array(['comtempt', 'disgust', 'fear', 'happiness', 'repression',\n",
       "       'sadness', 'surprise', 'tense'], dtype='<U10')"
      ]
     },
     "metadata": {},
     "execution_count": 75
    }
   ],
   "metadata": {}
  },
  {
   "cell_type": "code",
   "execution_count": 76,
   "source": [
    "plt.hist(lbe_res)\r\n",
    "plt.show()"
   ],
   "outputs": [
    {
     "output_type": "display_data",
     "data": {
      "text/plain": [
       "<matplotlib.figure.Figure at 0x17318ce5dd8>"
      ],
      "image/png": "[encoded data removed]"
     },
     "metadata": {}
    }
   ],
   "metadata": {}
  },
  {
   "cell_type": "code",
   "execution_count": 78,
   "source": [
    "# 查看读取的图片\r\n",
    "chose_indexs = np.random.randint(0, len(expressions), 6)\r\n",
    "# chose_indexs = np.arange(5)\r\n",
    "print(chose_indexs)\r\n",
    "plt.figure(figsize=(15, 15))\r\n",
    "for j in range(len(chose_indexs)):\r\n",
    "    for i in range(T):\r\n",
    "        plt.subplot(len(chose_indexs), T, j*T+i+1)\r\n",
    "        plt.imshow(expressions[chose_indexs[j]][0, :,:], cmap='gray')\r\n",
    "        plt.axis('off')\r\n",
    "        plt.title(labels[j])\r\n",
    "plt.show()"
   ],
   "outputs": [
    {
     "output_type": "stream",
     "name": "stdout",
     "text": [
      "[ 56 185 155   0 192 140]\n"
     ]
    },
    {
     "output_type": "display_data",
     "data": {
      "text/plain": [
       "<matplotlib.figure.Figure at 0x17322c86128>"
      ],
      "image/png": "[encoded data removed]"
     },
     "metadata": {}
    }
   ],
   "metadata": {}
  },
  {
   "cell_type": "code",
   "execution_count": null,
   "source": [
    "# 以numpy形式保存训练图片和标签\r\n",
    "np.save(\"..\\\\datasets\\\\train_images.npy\", expressions)\r\n",
    "np.save(\"..\\\\datasets\\\\train_labels.npy\", lbe_res)"
   ],
   "outputs": [],
   "metadata": {}
  },
  {
   "cell_type": "markdown",
   "source": [
    "## LBP-TOP提取特征，xgboost分类\r\n",
    "\r\n",
    "这种方法可能是LBP-TOP算法写的有点问题，分类准确率较低为0.425"
   ],
   "metadata": {}
  },
  {
   "cell_type": "code",
   "execution_count": null,
   "source": [
    "def LBP_TOP(VolData, xRadius=1, yRadius=1, tInterval=1, NeighborPoints=[6, 6, 6], TimeLength=1, BorderLength=1):\r\n",
    "    \"\"\"\r\n",
    "    LBP-TOP算法\r\n",
    "    input:\r\n",
    "        VolData:         一段表情序列图像集\r\n",
    "        xRadius:         在X轴上半径，默认为1\r\n",
    "        yRadius:         在Y轴上半径，默认为1\r\n",
    "        tInterval:       在T轴上半径，默认为4\r\n",
    "        NeightborPoints: 在XY, XT, YT平面上所选取的领域像素点个数，默认值为8,6,6\r\n",
    "    output:\r\n",
    "        Historgram:      输出的LBP-TOP特征矩阵\r\n",
    "    \"\"\"\r\n",
    "    length, height, width = VolData.shape\r\n",
    "\r\n",
    "    XYNeighborPoints = NeighborPoints[0]\r\n",
    "    XTNeighborPoints = NeighborPoints[1]\r\n",
    "    YTNeighborPoints = NeighborPoints[2]\r\n",
    "\r\n",
    "    nDim = 2 ** (YTNeighborPoints)\r\n",
    "    Historgram = np.zeros((3, nDim), float)\r\n",
    "\r\n",
    "    for t in range(TimeLength, length - TimeLength):\r\n",
    "        for yc in range(BorderLength, height - BorderLength):\r\n",
    "            for xc in range(BorderLength, width - BorderLength):\r\n",
    "                CenterVal = VolData[t, yc, xc]\r\n",
    "\r\n",
    "                # XY平面上\r\n",
    "                BasicLBP = 0\r\n",
    "                feaBin = 0\r\n",
    "\r\n",
    "                for p in range(0, XYNeighborPoints):\r\n",
    "                    X = int(xc + xRadius * math.cos((2 * math.pi * p)/XYNeighborPoints) + 0.5)\r\n",
    "                    Y = int(yc - yRadius * math.sin((2 * math.pi * p)/XYNeighborPoints) + 0.5)\r\n",
    "                    \r\n",
    "                    CurrentVal = VolData[t, Y, X]\r\n",
    "\r\n",
    "                    if CurrentVal >= CenterVal:\r\n",
    "                        BasicLBP += 2 ** feaBin\r\n",
    "                    \r\n",
    "                    feaBin += 1\r\n",
    "\r\n",
    "                Historgram[0, BasicLBP] = Historgram[0, BasicLBP] + 1\r\n",
    "\r\n",
    "                # XT平面上\r\n",
    "                BasicLBP = 0\r\n",
    "                feaBin = 0\r\n",
    "\r\n",
    "                for p in range(0, XTNeighborPoints):\r\n",
    "                    X = int(xc + xRadius * math.cos((2 * math.pi * p) / XTNeighborPoints) + 0.5)\r\n",
    "                    Z = int(t + tInterval * math.sin((2 * math.pi * p) / XTNeighborPoints)+ 0.5)\r\n",
    "                    CurrentVal = VolData[Z, yc, X]\r\n",
    "\r\n",
    "                    if CurrentVal >= CenterVal:\r\n",
    "                        BasicLBP += 2 ** feaBin\r\n",
    "\r\n",
    "                    feaBin += 1\r\n",
    "\r\n",
    "                Historgram[1, BasicLBP] = Historgram[1, BasicLBP] + 1\r\n",
    "\r\n",
    "                # YT平面上\r\n",
    "                BasicLBP = 0\r\n",
    "                feaBin = 0\r\n",
    "\r\n",
    "                for p in range(0, YTNeighborPoints):\r\n",
    "                    Y = int(yc - yRadius * math.cos((2 * math.pi * p)/YTNeighborPoints) + 0.5)\r\n",
    "                    Z = int(t + tInterval * math.sin((2 * math.pi * p)/YTNeighborPoints) + 0.5)\r\n",
    "\r\n",
    "                    CurrentVal = VolData[Z, Y, xc]\r\n",
    "\r\n",
    "                    if CurrentVal >= CenterVal:\r\n",
    "                        BasicLBP += 2 ** feaBin\r\n",
    "\r\n",
    "                    feaBin += 1\r\n",
    "                \r\n",
    "                Historgram[2, BasicLBP] = Historgram[2, BasicLBP] + 1\r\n",
    "\r\n",
    "    # 规范化\r\n",
    "    for j in range(3):\r\n",
    "        Historgram[j, :] = (Historgram[j, :] * 1.0) / sum(Historgram[j, :])\r\n",
    "    \r\n",
    "    return Historgram"
   ],
   "outputs": [],
   "metadata": {}
  },
  {
   "cell_type": "code",
   "execution_count": null,
   "source": [
    "historgram = LBP_TOP(expressions[115]).reshape((3*64, 1))\r\n",
    "plt.plot(np.arange(3*64), historgram)\r\n",
    "plt.show()"
   ],
   "outputs": [],
   "metadata": {}
  },
  {
   "cell_type": "code",
   "execution_count": null,
   "source": [
    "historgram.shape"
   ],
   "outputs": [],
   "metadata": {}
  },
  {
   "cell_type": "code",
   "execution_count": null,
   "source": [
    "# lbe_res = lbe_res - 1\r\n",
    "lbe_res"
   ],
   "outputs": [],
   "metadata": {}
  },
  {
   "cell_type": "code",
   "execution_count": null,
   "source": [
    "from xgboost import XGBClassifier\r\n",
    "from sklearn.model_selection import train_test_split\r\n",
    "from sklearn.metrics import classification_report, confusion_matrix, f1_score, make_scorer"
   ],
   "outputs": [],
   "metadata": {}
  },
  {
   "cell_type": "code",
   "execution_count": null,
   "source": [
    "# 获取x_data\r\n",
    "x_data = list()\r\n",
    "count = 1\r\n",
    "for expression in expressions:\r\n",
    "    x_data.append(LBP_TOP(expression/255))\r\n",
    "    print('\\r' + '▇'*(count//2) + \"{:.3f}\".format(count * 100.0 / float(len(expressions))) + '%', end='')\r\n",
    "    count += 1\r\n",
    "x_data = np.array(x_data)\r\n",
    "x_data.shape"
   ],
   "outputs": [],
   "metadata": {}
  },
  {
   "cell_type": "code",
   "execution_count": null,
   "source": [
    "x_data_resize = x_data.reshape((len(x_data), 3*64))\r\n",
    "X_train, X_test, y_train, y_test = train_test_split(x_data_resize, lbe_res, test_size=0.2)"
   ],
   "outputs": [],
   "metadata": {}
  },
  {
   "cell_type": "code",
   "execution_count": null,
   "source": [
    "X_train.shape"
   ],
   "outputs": [],
   "metadata": {}
  },
  {
   "cell_type": "code",
   "execution_count": null,
   "source": [
    "X_test.shape"
   ],
   "outputs": [],
   "metadata": {}
  },
  {
   "cell_type": "code",
   "execution_count": null,
   "source": [
    "clf = XGBClassifier(n_estimators=1000, learning_rate=0.005, n_jobs=4)\r\n",
    "clf.fit(X_train, y_train,\r\n",
    "        early_stopping_rounds=20,\r\n",
    "        eval_set=[(X_test, y_test)],\r\n",
    "        verbose=False)"
   ],
   "outputs": [],
   "metadata": {}
  },
  {
   "cell_type": "code",
   "execution_count": null,
   "source": [
    "y_pred = clf.predict(X_test)\r\n",
    "y_pred"
   ],
   "outputs": [],
   "metadata": {}
  },
  {
   "cell_type": "code",
   "execution_count": null,
   "source": [
    "y_test"
   ],
   "outputs": [],
   "metadata": {}
  },
  {
   "cell_type": "code",
   "execution_count": null,
   "source": [
    "(y_pred == y_test).sum()/len(y_pred)"
   ],
   "outputs": [],
   "metadata": {}
  },
  {
   "cell_type": "code",
   "execution_count": null,
   "source": [
    "classification_report(y_test, y_pred)"
   ],
   "outputs": [],
   "metadata": {}
  },
  {
   "cell_type": "code",
   "execution_count": null,
   "source": [
    "confusion_matrix(y_test, y_pred)"
   ],
   "outputs": [],
   "metadata": {}
  },
  {
   "cell_type": "markdown",
   "source": [
    "## CNN网络分类尝试"
   ],
   "metadata": {}
  },
  {
   "cell_type": "code",
   "execution_count": 51,
   "source": [
    "import tensorflow as tf\r\n",
    "from keras.models import Sequential\r\n",
    "from keras.layers.convolutional import Convolution3D, MaxPooling3D\r\n",
    "from tensorflow.keras.optimizers import SGD, RMSprop\r\n",
    "from keras.layers.core import Dense, Dropout, Activation, Flatten\r\n",
    "from keras import backend as K\r\n",
    "from sklearn.model_selection import train_test_split\r\n",
    "from sklearn.metrics import confusion_matrix\r\n",
    "from keras.callbacks import ModelCheckpoint\r\n",
    "from keras.utils import np_utils\r\n",
    "import os\r\n",
    "import numpy as np"
   ],
   "outputs": [],
   "metadata": {}
  },
  {
   "cell_type": "code",
   "execution_count": 38,
   "source": [
    "# 读取数据\r\n",
    "images = np.load(\"..\\\\datasets\\\\train_images.npy\")\r\n",
    "labels = np.load(\"..\\\\datasets\\\\train_labels.npy\")"
   ],
   "outputs": [],
   "metadata": {}
  },
  {
   "cell_type": "code",
   "execution_count": 40,
   "source": [
    "images = images.astype('float32')\r\n",
    "images -= np.mean(images)\r\n",
    "images /= np.std(images)"
   ],
   "outputs": [],
   "metadata": {}
  },
  {
   "cell_type": "code",
   "execution_count": 41,
   "source": [
    "images_reshape = images.reshape((images.shape[0], 1, images.shape[1], images.shape[2], images.shape[3]))\r\n",
    "images_reshape.shape"
   ],
   "outputs": [
    {
     "output_type": "execute_result",
     "data": {
      "text/plain": [
       "(195, 1, 8, 64, 64)"
      ]
     },
     "metadata": {},
     "execution_count": 41
    }
   ],
   "metadata": {}
  },
  {
   "cell_type": "code",
   "execution_count": 42,
   "source": [
    "labels_onehot = np.zeros((len(labels), ), dtype=int)\r\n",
    "labels_onehot = np_utils.to_categorical(labels, 8)\r\n",
    "labels_onehot.shape"
   ],
   "outputs": [
    {
     "output_type": "execute_result",
     "data": {
      "text/plain": [
       "(195, 8)"
      ]
     },
     "metadata": {},
     "execution_count": 42
    }
   ],
   "metadata": {}
  },
  {
   "cell_type": "code",
   "execution_count": 57,
   "source": [
    "train_images, validation_images, train_labels, validation_labels =  train_test_split(images_reshape, labels_onehot, test_size=0.2, random_state=4)"
   ],
   "outputs": [],
   "metadata": {}
  },
  {
   "cell_type": "code",
   "execution_count": 44,
   "source": [
    "train_images.shape"
   ],
   "outputs": [
    {
     "output_type": "execute_result",
     "data": {
      "text/plain": [
       "(156, 1, 8, 64, 64)"
      ]
     },
     "metadata": {},
     "execution_count": 44
    }
   ],
   "metadata": {}
  },
  {
   "cell_type": "code",
   "execution_count": 45,
   "source": [
    "image_depth, image_rows, image_columns = train_images[0, 0].shape"
   ],
   "outputs": [],
   "metadata": {}
  },
  {
   "cell_type": "code",
   "execution_count": 46,
   "source": [
    "# 定义3维cnn模型\r\n",
    "model = Sequential()\r\n",
    "model.add(Convolution3D(8, (3, 3, 15), input_shape=(1, image_depth, image_rows, image_columns), activation='relu', data_format='channels_first'))\r\n",
    "model.add(MaxPooling3D(pool_size=(3, 3, 3)))\r\n",
    "model.add(Dropout(0.5))\r\n",
    "model.add(Flatten())\r\n",
    "model.add(Dense(128, init='normal', activation='relu'))\r\n",
    "model.add(Dropout(0.5))\r\n",
    "model.add(Dense(train_labels.shape[1], init='normal'))\r\n",
    "model.add(Activation('softmax'))\r\n",
    "model.compile(loss = 'categorical_crossentropy', optimizer = 'SGD', metrics = ['accuracy'])\r\n",
    "\r\n",
    "model.summary()"
   ],
   "outputs": [
    {
     "output_type": "stream",
     "name": "stdout",
     "text": [
      "_________________________________________________________________\n",
      "Layer (type)                 Output Shape              Param #   \n",
      "=================================================================\n",
      "conv3d_5 (Conv3D)            (None, 8, 6, 62, 50)      1088      \n",
      "_________________________________________________________________\n",
      "max_pooling3d_5 (MaxPooling3 (None, 2, 2, 20, 50)      0         \n",
      "_________________________________________________________________\n",
      "dropout_9 (Dropout)          (None, 2, 2, 20, 50)      0         \n",
      "_________________________________________________________________\n",
      "flatten_5 (Flatten)          (None, 4000)              0         \n",
      "_________________________________________________________________\n",
      "dense_9 (Dense)              (None, 128)               512128    \n",
      "_________________________________________________________________\n",
      "dropout_10 (Dropout)         (None, 128)               0         \n",
      "_________________________________________________________________\n",
      "dense_10 (Dense)             (None, 8)                 1032      \n",
      "_________________________________________________________________\n",
      "activation_5 (Activation)    (None, 8)                 0         \n",
      "=================================================================\n",
      "Total params: 514,248.0\n",
      "Trainable params: 514,248.0\n",
      "Non-trainable params: 0.0\n",
      "_________________________________________________________________\n"
     ]
    },
    {
     "output_type": "stream",
     "name": "stderr",
     "text": [
      "C:\\Users\\Administrator\\.conda\\envs\\python3.6env\\lib\\site-packages\\keras\\legacy\\interfaces.py:86: UserWarning: Update your `Dense` call to the Keras 2 API: `Dense(128, activation=\"relu\", kernel_initializer=\"normal\")`\n",
      "  '` call to the Keras 2 API: ' + signature)\n",
      "C:\\Users\\Administrator\\.conda\\envs\\python3.6env\\lib\\site-packages\\keras\\legacy\\interfaces.py:86: UserWarning: Update your `Dense` call to the Keras 2 API: `Dense(8, kernel_initializer=\"normal\")`\n",
      "  '` call to the Keras 2 API: ' + signature)\n"
     ]
    }
   ],
   "metadata": {}
  },
  {
   "cell_type": "code",
   "execution_count": 47,
   "source": [
    "filepath=\"models\\\\weights-improvement-{epoch:02d}-{val_acc:.2f}.hdf5\"\r\n",
    "checkpoint = ModelCheckpoint(filepath, monitor='val_acc', verbose=1, save_best_only=True, mode='max')\r\n",
    "callbacks_list = [checkpoint]"
   ],
   "outputs": [],
   "metadata": {}
  },
  {
   "cell_type": "code",
   "execution_count": 48,
   "source": [
    "hist = model.fit(train_images, train_labels, validation_data = (validation_images, validation_labels), callbacks=callbacks_list, batch_size = 16, nb_epoch = 100, shuffle=True)"
   ],
   "outputs": [
    {
     "output_type": "stream",
     "name": "stderr",
     "text": [
      "C:\\Users\\Administrator\\.conda\\envs\\python3.6env\\lib\\site-packages\\keras\\models.py:826: UserWarning: The `nb_epoch` argument in `fit` has been renamed `epochs`.\n",
      "  warnings.warn('The `nb_epoch` argument in `fit` '\n"
     ]
    },
    {
     "output_type": "stream",
     "name": "stdout",
     "text": [
      "Train on 156 samples, validate on 39 samples\n",
      "Epoch 1/100\n",
      "144/156 [==========================>...] - ETA: 0s - loss: 4.0274 - acc: 0.1736Epoch 00000: val_acc improved from -inf to 0.33333, saving model to models\\weights-improvement-00-0.33.hdf5\n",
      "156/156 [==============================] - 6s - loss: 3.9126 - acc: 0.1859 - val_loss: 1.7508 - val_acc: 0.3333\n",
      "Epoch 2/100\n",
      "144/156 [==========================>...] - ETA: 0s - loss: 2.0801 - acc: 0.3125Epoch 00001: val_acc improved from 0.33333 to 0.35897, saving model to models\\weights-improvement-01-0.36.hdf5\n",
      "156/156 [==============================] - 6s - loss: 2.0304 - acc: 0.3205 - val_loss: 1.7207 - val_acc: 0.3590\n",
      "Epoch 3/100\n",
      "144/156 [==========================>...] - ETA: 0s - loss: 1.8469 - acc: 0.3125Epoch 00002: val_acc did not improve\n",
      "156/156 [==============================] - 6s - loss: 1.9052 - acc: 0.3141 - val_loss: 1.7214 - val_acc: 0.3077\n",
      "Epoch 4/100\n",
      "144/156 [==========================>...] - ETA: 0s - loss: 1.7623 - acc: 0.2847Epoch 00003: val_acc improved from 0.35897 to 0.38462, saving model to models\\weights-improvement-03-0.38.hdf5\n",
      "156/156 [==============================] - 6s - loss: 1.7248 - acc: 0.3141 - val_loss: 1.6857 - val_acc: 0.3846\n",
      "Epoch 5/100\n",
      "144/156 [==========================>...] - ETA: 0s - loss: 1.8368 - acc: 0.3333Epoch 00004: val_acc improved from 0.38462 to 0.41026, saving model to models\\weights-improvement-04-0.41.hdf5\n",
      "156/156 [==============================] - 6s - loss: 1.8214 - acc: 0.3397 - val_loss: 1.7076 - val_acc: 0.4103\n",
      "Epoch 6/100\n",
      "144/156 [==========================>...] - ETA: 0s - loss: 1.6313 - acc: 0.3889Epoch 00005: val_acc did not improve\n",
      "156/156 [==============================] - 6s - loss: 1.6156 - acc: 0.3910 - val_loss: 1.6080 - val_acc: 0.4103\n",
      "Epoch 7/100\n",
      "144/156 [==========================>...] - ETA: 0s - loss: 1.6849 - acc: 0.3889Epoch 00006: val_acc did not improve\n",
      "156/156 [==============================] - 6s - loss: 1.6875 - acc: 0.3846 - val_loss: 1.6168 - val_acc: 0.3590\n",
      "Epoch 8/100\n",
      "144/156 [==========================>...] - ETA: 0s - loss: 1.5716 - acc: 0.5139Epoch 00007: val_acc improved from 0.41026 to 0.43590, saving model to models\\weights-improvement-07-0.44.hdf5\n",
      "156/156 [==============================] - 6s - loss: 1.5737 - acc: 0.5000 - val_loss: 1.5889 - val_acc: 0.4359\n",
      "Epoch 9/100\n",
      "144/156 [==========================>...] - ETA: 0s - loss: 1.5769 - acc: 0.4097Epoch 00008: val_acc did not improve\n",
      "156/156 [==============================] - 6s - loss: 1.5619 - acc: 0.4167 - val_loss: 1.6339 - val_acc: 0.3077\n",
      "Epoch 10/100\n",
      "144/156 [==========================>...] - ETA: 0s - loss: 1.5466 - acc: 0.4236Epoch 00009: val_acc did not improve\n",
      "156/156 [==============================] - 6s - loss: 1.5258 - acc: 0.4231 - val_loss: 1.5741 - val_acc: 0.3846\n",
      "Epoch 11/100\n",
      "144/156 [==========================>...] - ETA: 0s - loss: 1.5408 - acc: 0.4236Epoch 00010: val_acc did not improve\n",
      "156/156 [==============================] - 6s - loss: 1.5267 - acc: 0.4359 - val_loss: 1.5642 - val_acc: 0.4359\n",
      "Epoch 12/100\n",
      "144/156 [==========================>...] - ETA: 0s - loss: 1.4809 - acc: 0.4792Epoch 00011: val_acc improved from 0.43590 to 0.46154, saving model to models\\weights-improvement-11-0.46.hdf5\n",
      "156/156 [==============================] - 7s - loss: 1.4843 - acc: 0.4744 - val_loss: 1.5771 - val_acc: 0.4615\n",
      "Epoch 13/100\n",
      "144/156 [==========================>...] - ETA: 0s - loss: 1.5176 - acc: 0.4028Epoch 00012: val_acc did not improve\n",
      "156/156 [==============================] - 6s - loss: 1.5163 - acc: 0.4038 - val_loss: 1.6261 - val_acc: 0.4615\n",
      "Epoch 14/100\n",
      "144/156 [==========================>...] - ETA: 0s - loss: 1.4841 - acc: 0.5069Epoch 00013: val_acc did not improve\n",
      "156/156 [==============================] - 6s - loss: 1.4916 - acc: 0.4872 - val_loss: 1.5348 - val_acc: 0.4615\n",
      "Epoch 15/100\n",
      "144/156 [==========================>...] - ETA: 0s - loss: 1.3417 - acc: 0.5208Epoch 00014: val_acc did not improve\n",
      "156/156 [==============================] - 6s - loss: 1.3478 - acc: 0.5064 - val_loss: 1.5158 - val_acc: 0.4615\n",
      "Epoch 16/100\n",
      "144/156 [==========================>...] - ETA: 0s - loss: 1.5145 - acc: 0.4236Epoch 00015: val_acc improved from 0.46154 to 0.48718, saving model to models\\weights-improvement-15-0.49.hdf5\n",
      "156/156 [==============================] - 6s - loss: 1.4837 - acc: 0.4423 - val_loss: 1.5625 - val_acc: 0.4872\n",
      "Epoch 17/100\n",
      "144/156 [==========================>...] - ETA: 0s - loss: 1.3993 - acc: 0.4514Epoch 00016: val_acc did not improve\n",
      "156/156 [==============================] - 6s - loss: 1.3926 - acc: 0.4487 - val_loss: 1.5551 - val_acc: 0.4872\n",
      "Epoch 18/100\n",
      "144/156 [==========================>...] - ETA: 0s - loss: 1.3330 - acc: 0.5000Epoch 00017: val_acc did not improve\n",
      "156/156 [==============================] - 6s - loss: 1.3261 - acc: 0.4936 - val_loss: 1.5623 - val_acc: 0.4615\n",
      "Epoch 19/100\n",
      "144/156 [==========================>...] - ETA: 0s - loss: 1.4124 - acc: 0.5069Epoch 00018: val_acc did not improve\n",
      "156/156 [==============================] - 6s - loss: 1.4231 - acc: 0.5064 - val_loss: 1.5493 - val_acc: 0.4872\n",
      "Epoch 20/100\n",
      "144/156 [==========================>...] - ETA: 0s - loss: 1.4255 - acc: 0.4931Epoch 00019: val_acc did not improve\n",
      "156/156 [==============================] - 6s - loss: 1.3956 - acc: 0.5128 - val_loss: 1.5129 - val_acc: 0.4615\n",
      "Epoch 21/100\n",
      "144/156 [==========================>...] - ETA: 0s - loss: 1.3106 - acc: 0.5347Epoch 00020: val_acc did not improve\n",
      "156/156 [==============================] - 6s - loss: 1.3426 - acc: 0.5256 - val_loss: 1.5368 - val_acc: 0.4872\n",
      "Epoch 22/100\n",
      "144/156 [==========================>...] - ETA: 0s - loss: 1.3480 - acc: 0.5069Epoch 00021: val_acc did not improve\n",
      "156/156 [==============================] - 6s - loss: 1.3764 - acc: 0.5000 - val_loss: 1.5214 - val_acc: 0.4615\n",
      "Epoch 23/100\n",
      "144/156 [==========================>...] - ETA: 0s - loss: 1.3730 - acc: 0.4722Epoch 00022: val_acc did not improve\n",
      "156/156 [==============================] - 6s - loss: 1.3704 - acc: 0.4615 - val_loss: 1.5130 - val_acc: 0.4872\n",
      "Epoch 24/100\n",
      "144/156 [==========================>...] - ETA: 0s - loss: 1.2719 - acc: 0.5486Epoch 00023: val_acc did not improve\n",
      "156/156 [==============================] - 6s - loss: 1.2956 - acc: 0.5449 - val_loss: 1.5181 - val_acc: 0.4359\n",
      "Epoch 25/100\n",
      "144/156 [==========================>...] - ETA: 0s - loss: 1.4069 - acc: 0.5000Epoch 00024: val_acc did not improve\n",
      "156/156 [==============================] - 6s - loss: 1.3998 - acc: 0.5128 - val_loss: 1.5501 - val_acc: 0.4872\n",
      "Epoch 26/100\n",
      "144/156 [==========================>...] - ETA: 0s - loss: 1.2954 - acc: 0.4792Epoch 00025: val_acc did not improve\n",
      "156/156 [==============================] - 6s - loss: 1.3194 - acc: 0.4744 - val_loss: 1.4840 - val_acc: 0.4615\n",
      "Epoch 27/100\n",
      "144/156 [==========================>...] - ETA: 0s - loss: 1.2885 - acc: 0.5139Epoch 00026: val_acc did not improve\n",
      "156/156 [==============================] - 6s - loss: 1.2911 - acc: 0.5064 - val_loss: 1.4636 - val_acc: 0.4872\n",
      "Epoch 28/100\n",
      "144/156 [==========================>...] - ETA: 0s - loss: 1.2449 - acc: 0.5486Epoch 00027: val_acc improved from 0.48718 to 0.51282, saving model to models\\weights-improvement-27-0.51.hdf5\n",
      "156/156 [==============================] - 6s - loss: 1.2523 - acc: 0.5385 - val_loss: 1.4575 - val_acc: 0.5128\n",
      "Epoch 29/100\n",
      "144/156 [==========================>...] - ETA: 0s - loss: 1.2597 - acc: 0.5278Epoch 00028: val_acc did not improve\n",
      "156/156 [==============================] - 6s - loss: 1.2563 - acc: 0.5385 - val_loss: 1.5212 - val_acc: 0.4359\n",
      "Epoch 30/100\n",
      "144/156 [==========================>...] - ETA: 0s - loss: 1.3463 - acc: 0.4792Epoch 00029: val_acc did not improve\n",
      "156/156 [==============================] - 6s - loss: 1.3145 - acc: 0.4936 - val_loss: 1.4503 - val_acc: 0.4615\n",
      "Epoch 31/100\n",
      "144/156 [==========================>...] - ETA: 0s - loss: 1.4045 - acc: 0.5069Epoch 00030: val_acc did not improve\n",
      "156/156 [==============================] - 6s - loss: 1.3730 - acc: 0.5256 - val_loss: 1.4363 - val_acc: 0.5128\n",
      "Epoch 32/100\n",
      "144/156 [==========================>...] - ETA: 0s - loss: 1.2693 - acc: 0.5417Epoch 00031: val_acc did not improve\n",
      "156/156 [==============================] - 6s - loss: 1.3057 - acc: 0.5321 - val_loss: 1.4661 - val_acc: 0.5128\n",
      "Epoch 33/100\n",
      "144/156 [==========================>...] - ETA: 0s - loss: 1.2227 - acc: 0.5278Epoch 00032: val_acc did not improve\n",
      "156/156 [==============================] - 6s - loss: 1.2672 - acc: 0.5064 - val_loss: 1.4615 - val_acc: 0.4872\n",
      "Epoch 34/100\n",
      "144/156 [==========================>...] - ETA: 0s - loss: 1.1919 - acc: 0.5972Epoch 00033: val_acc did not improve\n",
      "156/156 [==============================] - 6s - loss: 1.1799 - acc: 0.5897 - val_loss: 1.5188 - val_acc: 0.4872\n",
      "Epoch 35/100\n",
      "144/156 [==========================>...] - ETA: 0s - loss: 1.2864 - acc: 0.5625Epoch 00034: val_acc did not improve\n",
      "156/156 [==============================] - 6s - loss: 1.2706 - acc: 0.5705 - val_loss: 1.4963 - val_acc: 0.4872\n",
      "Epoch 36/100\n",
      "144/156 [==========================>...] - ETA: 0s - loss: 1.1767 - acc: 0.5833Epoch 00035: val_acc did not improve\n",
      "156/156 [==============================] - 6s - loss: 1.1960 - acc: 0.5705 - val_loss: 1.5053 - val_acc: 0.4872\n",
      "Epoch 37/100\n",
      "144/156 [==========================>...] - ETA: 0s - loss: 1.0898 - acc: 0.6528Epoch 00036: val_acc did not improve\n",
      "156/156 [==============================] - 6s - loss: 1.1325 - acc: 0.6410 - val_loss: 1.4890 - val_acc: 0.5128\n",
      "Epoch 38/100\n",
      "144/156 [==========================>...] - ETA: 0s - loss: 1.3104 - acc: 0.5278Epoch 00037: val_acc did not improve\n",
      "156/156 [==============================] - 6s - loss: 1.2860 - acc: 0.5385 - val_loss: 1.4989 - val_acc: 0.4359\n",
      "Epoch 39/100\n",
      "144/156 [==========================>...] - ETA: 0s - loss: 1.2627 - acc: 0.5486Epoch 00038: val_acc did not improve\n",
      "156/156 [==============================] - 6s - loss: 1.2335 - acc: 0.5641 - val_loss: 1.5105 - val_acc: 0.4872\n",
      "Epoch 40/100\n",
      "144/156 [==========================>...] - ETA: 0s - loss: 1.1953 - acc: 0.5625Epoch 00039: val_acc did not improve\n",
      "156/156 [==============================] - 6s - loss: 1.2445 - acc: 0.5449 - val_loss: 1.5236 - val_acc: 0.4872\n",
      "Epoch 41/100\n",
      "144/156 [==========================>...] - ETA: 0s - loss: 1.1850 - acc: 0.5278Epoch 00040: val_acc did not improve\n",
      "156/156 [==============================] - 6s - loss: 1.1882 - acc: 0.5192 - val_loss: 1.5386 - val_acc: 0.5128\n",
      "Epoch 42/100\n",
      "144/156 [==========================>...] - ETA: 0s - loss: 1.2294 - acc: 0.5417Epoch 00041: val_acc did not improve\n",
      "156/156 [==============================] - 6s - loss: 1.2303 - acc: 0.5385 - val_loss: 1.5353 - val_acc: 0.4872\n",
      "Epoch 43/100\n",
      "144/156 [==========================>...] - ETA: 0s - loss: 1.1830 - acc: 0.5417Epoch 00042: val_acc did not improve\n",
      "156/156 [==============================] - 6s - loss: 1.1937 - acc: 0.5321 - val_loss: 1.5633 - val_acc: 0.4615\n",
      "Epoch 44/100\n",
      "144/156 [==========================>...] - ETA: 0s - loss: 1.1635 - acc: 0.5694Epoch 00043: val_acc did not improve\n",
      "156/156 [==============================] - 6s - loss: 1.1517 - acc: 0.5705 - val_loss: 1.5273 - val_acc: 0.5128\n",
      "Epoch 45/100\n",
      "144/156 [==========================>...] - ETA: 0s - loss: 1.0587 - acc: 0.6042Epoch 00044: val_acc did not improve\n",
      "156/156 [==============================] - 6s - loss: 1.1016 - acc: 0.5769 - val_loss: 1.5669 - val_acc: 0.5128\n",
      "Epoch 46/100\n",
      "144/156 [==========================>...] - ETA: 0s - loss: 1.2084 - acc: 0.5347Epoch 00045: val_acc did not improve\n",
      "156/156 [==============================] - 6s - loss: 1.1837 - acc: 0.5449 - val_loss: 1.5472 - val_acc: 0.4615\n",
      "Epoch 47/100\n",
      "144/156 [==========================>...] - ETA: 0s - loss: 1.1116 - acc: 0.6042Epoch 00046: val_acc did not improve\n",
      "156/156 [==============================] - 6s - loss: 1.0995 - acc: 0.6154 - val_loss: 1.5588 - val_acc: 0.4872\n",
      "Epoch 48/100\n",
      "144/156 [==========================>...] - ETA: 0s - loss: 1.0107 - acc: 0.6597Epoch 00047: val_acc did not improve\n",
      "156/156 [==============================] - 6s - loss: 1.0672 - acc: 0.6410 - val_loss: 1.5158 - val_acc: 0.5128\n",
      "Epoch 49/100\n",
      "144/156 [==========================>...] - ETA: 0s - loss: 1.1536 - acc: 0.5903Epoch 00048: val_acc did not improve\n",
      "156/156 [==============================] - 6s - loss: 1.1718 - acc: 0.5833 - val_loss: 1.5146 - val_acc: 0.4615\n",
      "Epoch 50/100\n",
      "144/156 [==========================>...] - ETA: 0s - loss: 1.0297 - acc: 0.6806Epoch 00049: val_acc did not improve\n",
      "156/156 [==============================] - 7s - loss: 1.0042 - acc: 0.6795 - val_loss: 1.5180 - val_acc: 0.4872\n",
      "Epoch 51/100\n",
      "144/156 [==========================>...] - ETA: 0s - loss: 1.1113 - acc: 0.5556Epoch 00050: val_acc did not improve\n",
      "156/156 [==============================] - 6s - loss: 1.1072 - acc: 0.5577 - val_loss: 1.5471 - val_acc: 0.4872\n",
      "Epoch 52/100\n",
      "144/156 [==========================>...] - ETA: 0s - loss: 1.0234 - acc: 0.6389Epoch 00051: val_acc did not improve\n",
      "156/156 [==============================] - 6s - loss: 1.0607 - acc: 0.6218 - val_loss: 1.5685 - val_acc: 0.4615\n",
      "Epoch 53/100\n",
      "144/156 [==========================>...] - ETA: 0s - loss: 1.1765 - acc: 0.5764Epoch 00052: val_acc did not improve\n",
      "156/156 [==============================] - 6s - loss: 1.1558 - acc: 0.5833 - val_loss: 1.5452 - val_acc: 0.5128\n",
      "Epoch 54/100\n",
      "144/156 [==========================>...] - ETA: 0s - loss: 1.1045 - acc: 0.5972Epoch 00053: val_acc did not improve\n",
      "156/156 [==============================] - 6s - loss: 1.1055 - acc: 0.5962 - val_loss: 1.5263 - val_acc: 0.5128\n",
      "Epoch 55/100\n",
      "144/156 [==========================>...] - ETA: 0s - loss: 1.1105 - acc: 0.5625Epoch 00054: val_acc did not improve\n",
      "156/156 [==============================] - 6s - loss: 1.0862 - acc: 0.5641 - val_loss: 1.5273 - val_acc: 0.4872\n",
      "Epoch 56/100\n",
      "144/156 [==========================>...] - ETA: 0s - loss: 0.8618 - acc: 0.6875Epoch 00055: val_acc did not improve\n",
      "156/156 [==============================] - 6s - loss: 0.9221 - acc: 0.6667 - val_loss: 1.5513 - val_acc: 0.4359\n",
      "Epoch 57/100\n",
      "144/156 [==========================>...] - ETA: 0s - loss: 0.9942 - acc: 0.6597Epoch 00056: val_acc did not improve\n",
      "156/156 [==============================] - 6s - loss: 1.0030 - acc: 0.6603 - val_loss: 1.5029 - val_acc: 0.4615\n",
      "Epoch 58/100\n",
      "144/156 [==========================>...] - ETA: 0s - loss: 1.1554 - acc: 0.6250Epoch 00057: val_acc did not improve\n",
      "156/156 [==============================] - 6s - loss: 1.1753 - acc: 0.6154 - val_loss: 1.5252 - val_acc: 0.4615\n",
      "Epoch 59/100\n",
      "144/156 [==========================>...] - ETA: 0s - loss: 0.9600 - acc: 0.6597Epoch 00058: val_acc did not improve\n",
      "156/156 [==============================] - 6s - loss: 1.0027 - acc: 0.6346 - val_loss: 1.5535 - val_acc: 0.4615\n",
      "Epoch 60/100\n",
      "144/156 [==========================>...] - ETA: 0s - loss: 0.9046 - acc: 0.6806Epoch 00059: val_acc did not improve\n",
      "156/156 [==============================] - 6s - loss: 0.9108 - acc: 0.6731 - val_loss: 1.5822 - val_acc: 0.4872\n",
      "Epoch 61/100\n",
      "144/156 [==========================>...] - ETA: 0s - loss: 1.0986 - acc: 0.6042Epoch 00060: val_acc did not improve\n",
      "156/156 [==============================] - 6s - loss: 1.0974 - acc: 0.6154 - val_loss: 1.5731 - val_acc: 0.5128\n",
      "Epoch 62/100\n",
      "144/156 [==========================>...] - ETA: 0s - loss: 1.0960 - acc: 0.5486Epoch 00061: val_acc improved from 0.51282 to 0.53846, saving model to models\\weights-improvement-61-0.54.hdf5\n",
      "156/156 [==============================] - 6s - loss: 1.0980 - acc: 0.5449 - val_loss: 1.5167 - val_acc: 0.5385\n",
      "Epoch 63/100\n",
      "144/156 [==========================>...] - ETA: 0s - loss: 1.0742 - acc: 0.5972Epoch 00062: val_acc did not improve\n",
      "156/156 [==============================] - 6s - loss: 1.0790 - acc: 0.5897 - val_loss: 1.5448 - val_acc: 0.5128\n",
      "Epoch 64/100\n",
      "144/156 [==========================>...] - ETA: 0s - loss: 1.0364 - acc: 0.6528Epoch 00063: val_acc did not improve\n",
      "156/156 [==============================] - 6s - loss: 1.0513 - acc: 0.6538 - val_loss: 1.5382 - val_acc: 0.5128\n",
      "Epoch 65/100\n",
      "144/156 [==========================>...] - ETA: 0s - loss: 1.0461 - acc: 0.6042Epoch 00064: val_acc did not improve\n",
      "156/156 [==============================] - 6s - loss: 1.0246 - acc: 0.6154 - val_loss: 1.5256 - val_acc: 0.4872\n",
      "Epoch 66/100\n",
      "144/156 [==========================>...] - ETA: 0s - loss: 0.9225 - acc: 0.6597Epoch 00065: val_acc did not improve\n",
      "156/156 [==============================] - 6s - loss: 0.9367 - acc: 0.6603 - val_loss: 1.5895 - val_acc: 0.5128\n",
      "Epoch 67/100\n",
      "144/156 [==========================>...] - ETA: 0s - loss: 1.0293 - acc: 0.6667Epoch 00066: val_acc did not improve\n",
      "156/156 [==============================] - 6s - loss: 0.9990 - acc: 0.6859 - val_loss: 1.5998 - val_acc: 0.5385\n",
      "Epoch 68/100\n",
      "144/156 [==========================>...] - ETA: 0s - loss: 1.0078 - acc: 0.7014Epoch 00067: val_acc did not improve\n",
      "156/156 [==============================] - 6s - loss: 0.9889 - acc: 0.6987 - val_loss: 1.6242 - val_acc: 0.4872\n",
      "Epoch 69/100\n",
      "144/156 [==========================>...] - ETA: 0s - loss: 0.9935 - acc: 0.6319Epoch 00068: val_acc did not improve\n",
      "156/156 [==============================] - 6s - loss: 0.9711 - acc: 0.6410 - val_loss: 1.6484 - val_acc: 0.4615\n",
      "Epoch 70/100\n",
      "144/156 [==========================>...] - ETA: 0s - loss: 0.8986 - acc: 0.6806Epoch 00069: val_acc did not improve\n",
      "156/156 [==============================] - 6s - loss: 0.9066 - acc: 0.6731 - val_loss: 1.6075 - val_acc: 0.5385\n",
      "Epoch 71/100\n",
      "144/156 [==========================>...] - ETA: 0s - loss: 1.0645 - acc: 0.5972Epoch 00070: val_acc did not improve\n",
      "156/156 [==============================] - 6s - loss: 1.0517 - acc: 0.5962 - val_loss: 1.5685 - val_acc: 0.5128\n",
      "Epoch 72/100\n",
      "144/156 [==========================>...] - ETA: 0s - loss: 0.9352 - acc: 0.6319Epoch 00071: val_acc did not improve\n",
      "156/156 [==============================] - 6s - loss: 0.9410 - acc: 0.6218 - val_loss: 1.6432 - val_acc: 0.4615\n",
      "Epoch 73/100\n",
      "144/156 [==========================>...] - ETA: 0s - loss: 1.0193 - acc: 0.5833Epoch 00072: val_acc did not improve\n",
      "156/156 [==============================] - 6s - loss: 0.9988 - acc: 0.5897 - val_loss: 1.6045 - val_acc: 0.5128\n",
      "Epoch 74/100\n",
      "144/156 [==========================>...] - ETA: 0s - loss: 1.0601 - acc: 0.6181Epoch 00073: val_acc did not improve\n",
      "156/156 [==============================] - 6s - loss: 1.0315 - acc: 0.6410 - val_loss: 1.5687 - val_acc: 0.5128\n",
      "Epoch 75/100\n",
      "144/156 [==========================>...] - ETA: 0s - loss: 1.0214 - acc: 0.5972Epoch 00074: val_acc did not improve\n",
      "156/156 [==============================] - 6s - loss: 1.0155 - acc: 0.6090 - val_loss: 1.5581 - val_acc: 0.5385\n",
      "Epoch 76/100\n",
      "144/156 [==========================>...] - ETA: 0s - loss: 0.9631 - acc: 0.6458Epoch 00075: val_acc did not improve\n",
      "156/156 [==============================] - 6s - loss: 0.9391 - acc: 0.6538 - val_loss: 1.5621 - val_acc: 0.5385\n",
      "Epoch 77/100\n",
      "144/156 [==========================>...] - ETA: 0s - loss: 0.9694 - acc: 0.6319Epoch 00076: val_acc did not improve\n",
      "156/156 [==============================] - 6s - loss: 0.9980 - acc: 0.6218 - val_loss: 1.5589 - val_acc: 0.5385\n",
      "Epoch 78/100\n",
      "144/156 [==========================>...] - ETA: 0s - loss: 0.9220 - acc: 0.6806Epoch 00077: val_acc did not improve\n",
      "156/156 [==============================] - 6s - loss: 0.9210 - acc: 0.6731 - val_loss: 1.5587 - val_acc: 0.5385\n",
      "Epoch 79/100\n",
      "144/156 [==========================>...] - ETA: 0s - loss: 1.0012 - acc: 0.6250Epoch 00078: val_acc did not improve\n",
      "156/156 [==============================] - 6s - loss: 0.9842 - acc: 0.6282 - val_loss: 1.5679 - val_acc: 0.5128\n",
      "Epoch 80/100\n",
      "144/156 [==========================>...] - ETA: 0s - loss: 0.9987 - acc: 0.5972Epoch 00079: val_acc did not improve\n",
      "156/156 [==============================] - 6s - loss: 0.9766 - acc: 0.6026 - val_loss: 1.5757 - val_acc: 0.5385\n",
      "Epoch 81/100\n",
      "144/156 [==========================>...] - ETA: 0s - loss: 0.8914 - acc: 0.6736Epoch 00080: val_acc did not improve\n",
      "156/156 [==============================] - 6s - loss: 0.9319 - acc: 0.6603 - val_loss: 1.5790 - val_acc: 0.5128\n",
      "Epoch 82/100\n",
      "144/156 [==========================>...] - ETA: 0s - loss: 0.8875 - acc: 0.6528Epoch 00081: val_acc did not improve\n",
      "156/156 [==============================] - 6s - loss: 0.8901 - acc: 0.6667 - val_loss: 1.6274 - val_acc: 0.5128\n",
      "Epoch 83/100\n",
      "144/156 [==========================>...] - ETA: 0s - loss: 0.8685 - acc: 0.6667Epoch 00082: val_acc did not improve\n",
      "156/156 [==============================] - 6s - loss: 0.8686 - acc: 0.6731 - val_loss: 1.6490 - val_acc: 0.5128\n",
      "Epoch 84/100\n",
      "144/156 [==========================>...] - ETA: 0s - loss: 0.8738 - acc: 0.6875Epoch 00083: val_acc did not improve\n",
      "156/156 [==============================] - 6s - loss: 0.8646 - acc: 0.6859 - val_loss: 1.6683 - val_acc: 0.4872\n",
      "Epoch 85/100\n",
      "144/156 [==========================>...] - ETA: 0s - loss: 0.8248 - acc: 0.7014Epoch 00084: val_acc did not improve\n",
      "156/156 [==============================] - 6s - loss: 0.8630 - acc: 0.6859 - val_loss: 1.6793 - val_acc: 0.4615\n",
      "Epoch 86/100\n",
      "144/156 [==========================>...] - ETA: 0s - loss: 0.8142 - acc: 0.7083Epoch 00085: val_acc did not improve\n",
      "156/156 [==============================] - 6s - loss: 0.8305 - acc: 0.6987 - val_loss: 1.7007 - val_acc: 0.4615\n",
      "Epoch 87/100\n",
      "144/156 [==========================>...] - ETA: 0s - loss: 0.9640 - acc: 0.6389Epoch 00086: val_acc did not improve\n",
      "156/156 [==============================] - 6s - loss: 0.9573 - acc: 0.6346 - val_loss: 1.6884 - val_acc: 0.5128\n",
      "Epoch 88/100\n",
      "144/156 [==========================>...] - ETA: 0s - loss: 0.9324 - acc: 0.6667Epoch 00087: val_acc did not improve\n",
      "156/156 [==============================] - 6s - loss: 0.9488 - acc: 0.6603 - val_loss: 1.6647 - val_acc: 0.5128\n",
      "Epoch 89/100\n",
      "144/156 [==========================>...] - ETA: 0s - loss: 0.7949 - acc: 0.7153Epoch 00088: val_acc did not improve\n",
      "156/156 [==============================] - 6s - loss: 0.8662 - acc: 0.6859 - val_loss: 1.6837 - val_acc: 0.4872\n",
      "Epoch 90/100\n",
      "144/156 [==========================>...] - ETA: 0s - loss: 0.7296 - acc: 0.7569Epoch 00089: val_acc did not improve\n",
      "156/156 [==============================] - 7s - loss: 0.7541 - acc: 0.7436 - val_loss: 1.7036 - val_acc: 0.5128\n",
      "Epoch 91/100\n",
      "144/156 [==========================>...] - ETA: 0s - loss: 0.8852 - acc: 0.6528Epoch 00090: val_acc did not improve\n",
      "156/156 [==============================] - 6s - loss: 0.9087 - acc: 0.6346 - val_loss: 1.6889 - val_acc: 0.5128\n",
      "Epoch 92/100\n",
      "144/156 [==========================>...] - ETA: 0s - loss: 0.8454 - acc: 0.7292Epoch 00091: val_acc did not improve\n",
      "156/156 [==============================] - 7s - loss: 0.8799 - acc: 0.7115 - val_loss: 1.6815 - val_acc: 0.5128\n",
      "Epoch 93/100\n",
      "144/156 [==========================>...] - ETA: 0s - loss: 0.8599 - acc: 0.6875Epoch 00092: val_acc did not improve\n",
      "156/156 [==============================] - 6s - loss: 0.8583 - acc: 0.6731 - val_loss: 1.6743 - val_acc: 0.5128\n",
      "Epoch 94/100\n",
      "144/156 [==========================>...] - ETA: 0s - loss: 0.9179 - acc: 0.6458Epoch 00093: val_acc did not improve\n",
      "156/156 [==============================] - 6s - loss: 0.9093 - acc: 0.6538 - val_loss: 1.6587 - val_acc: 0.4872\n",
      "Epoch 95/100\n",
      "144/156 [==========================>...] - ETA: 0s - loss: 0.8332 - acc: 0.6667Epoch 00094: val_acc did not improve\n",
      "156/156 [==============================] - 6s - loss: 0.8687 - acc: 0.6731 - val_loss: 1.6857 - val_acc: 0.5128\n",
      "Epoch 96/100\n",
      "144/156 [==========================>...] - ETA: 0s - loss: 0.8714 - acc: 0.7222Epoch 00095: val_acc did not improve\n",
      "156/156 [==============================] - 6s - loss: 0.8701 - acc: 0.7115 - val_loss: 1.6552 - val_acc: 0.5128\n",
      "Epoch 97/100\n",
      "144/156 [==========================>...] - ETA: 0s - loss: 0.8040 - acc: 0.7292Epoch 00096: val_acc did not improve\n",
      "156/156 [==============================] - 6s - loss: 0.8186 - acc: 0.7244 - val_loss: 1.6531 - val_acc: 0.5128\n",
      "Epoch 98/100\n",
      "144/156 [==========================>...] - ETA: 0s - loss: 0.8665 - acc: 0.7361Epoch 00097: val_acc did not improve\n",
      "156/156 [==============================] - 7s - loss: 0.8577 - acc: 0.7308 - val_loss: 1.6709 - val_acc: 0.5385\n",
      "Epoch 99/100\n",
      "144/156 [==========================>...] - ETA: 0s - loss: 0.9243 - acc: 0.6458Epoch 00098: val_acc did not improve\n",
      "156/156 [==============================] - 7s - loss: 0.9065 - acc: 0.6538 - val_loss: 1.6736 - val_acc: 0.5128\n",
      "Epoch 100/100\n",
      "144/156 [==========================>...] - ETA: 0s - loss: 0.8432 - acc: 0.7014Epoch 00099: val_acc did not improve\n",
      "156/156 [==============================] - 6s - loss: 0.8336 - acc: 0.7051 - val_loss: 1.6984 - val_acc: 0.5128\n"
     ]
    }
   ],
   "metadata": {}
  },
  {
   "cell_type": "code",
   "execution_count": 60,
   "source": [
    "predictions = model.predict(validation_images)\r\n",
    "predictions_labels = np.argmax(predictions, axis=1)\r\n",
    "validation_labels = np.argmax(validation_labels, axis=1)\r\n",
    "cfm = confusion_matrix(validation_labels, predictions_labels)\r\n",
    "print (cfm)"
   ],
   "outputs": [
    {
     "output_type": "stream",
     "name": "stdout",
     "text": [
      "[[10  0  1  0  0  0  2]\n",
      " [ 0  0  0  0  0  0  1]\n",
      " [ 0  0  0  1  0  0  0]\n",
      " [ 1  0  0  1  0  0  6]\n",
      " [ 1  0  0  0  0  0  0]\n",
      " [ 0  0  0  0  0  0  2]\n",
      " [ 3  0  0  1  0  0  9]]\n"
     ]
    }
   ],
   "metadata": {}
  },
  {
   "cell_type": "code",
   "execution_count": null,
   "source": [],
   "outputs": [],
   "metadata": {}
  }
 ],
 "metadata": {
  "orig_nbformat": 4,
  "language_info": {
   "name": "python",
   "version": "3.6.2",
   "mimetype": "text/x-python",
   "codemirror_mode": {
    "name": "ipython",
    "version": 3
   },
   "pygments_lexer": "ipython3",
   "nbconvert_exporter": "python",
   "file_extension": ".py"
  },
  "kernelspec": {
   "name": "python3",
   "display_name": "Python 3.6.2 64-bit ('python3.6env': conda)"
  },
  "interpreter": {
   "hash": "7835acacaeaf508b921ecd27357232a38d5f7dc52657613320ee88843bc3a5f4"
  }
 },
 "nbformat": 4,
 "nbformat_minor": 2
}